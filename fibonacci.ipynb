{
 "cells": [
  {
   "attachments": {},
   "cell_type": "markdown",
   "metadata": {},
   "source": [
    "## Fibonacci\n",
    "\n",
    "除了遞迴解,也可以透過線性代數"
   ]
  },
  {
   "attachments": {},
   "cell_type": "markdown",
   "metadata": {},
   "source": [
    "## Q-Matrix\n",
    "\n",
    "$\\begin{aligned}\n",
    "Q &= \\begin{bmatrix} 1 & 1 \\\\ 1 & 0 \\end{bmatrix} = \\begin{bmatrix} F_2 & F_1 \\\\ F_1 & F_0 \\end{bmatrix}\n",
    "\\end{aligned}$\n",
    "\n",
    "$\\begin{aligned}\n",
    "Q^{n+1} &= QQ^n \\\\ \n",
    "        &= \\begin{bmatrix} 1 & 1 \\\\ 1 & 0 \\end{bmatrix} \\begin{bmatrix} F_{n+1} & F_n \\\\ F_n & F_{n-1} \\end{bmatrix} \\\\\n",
    "        &= \\begin{bmatrix} F_{n+1} + F_n & F_n + F_{n-1} \\\\ F_{n+1} &F_n \\end{bmatrix} \\\\\n",
    "        &= \\begin{bmatrix} F_{n+2} & F_{n+1} \\\\ F_{n+1} & F_{n} \\end{bmatrix}\n",
    "\\end{aligned}$"
   ]
  },
  {
   "attachments": {},
   "cell_type": "markdown",
   "metadata": {},
   "source": [
    "## Fast doubling\n",
    "\n",
    "$\\begin{aligned}\n",
    "\\begin{bmatrix} 1 & 1 \\\\ 1 & 0 \\end{bmatrix}^n = \\begin{bmatrix} F(n+1) & F(n) \\\\ F(n) & F(n-1) \\end{bmatrix}\n",
    "\\end{aligned}$\n",
    "\n",
    "$\\begin{aligned}\n",
    "\\begin{bmatrix} F(2n+1) \\\\ F(2n) \\end{bmatrix}^n &= \\begin{bmatrix} F(n+1) & F(n) \\\\ F(n) & F(n-1) \\end{bmatrix}^{2n} \\begin{bmatrix} 1 \\\\ 0 \\end{bmatrix} \\\\\n",
    "                                                 &= \\begin{bmatrix} F(n+1) & F(n) \\\\ F(n) & F(n-1) \\end{bmatrix} \\begin{bmatrix} F(n+1) & F(n) \\\\ F(n) & F(n-1) \\end{bmatrix} \\begin{bmatrix} 1 \\\\ 0 \\end{bmatrix} \\\\\n",
    "                                                 &= \\begin{bmatrix} F(n+1)^2 + F(n)^2 \\\\ F(n)F(n+1) + F(n-1)F(n) \\end{bmatrix}\n",
    "\\end{aligned}$\n",
    "\n",
    "\n",
    "$\\begin{aligned}\n",
    "F(2n+1)  &= F(n+1)^2 + F(n)^2 \\\\\n",
    "\\end{aligned}$\n",
    "\n",
    "$\\begin{aligned}\n",
    "F(2n)  &= F(n)F(n+1) + F(n-1)F(n) \\\\\n",
    "       &= F(n)[F(n+1)+F(n-1) \\\\\n",
    "       &= F(n)[F(n+1)+F(n-1)+F(n)-F(n)] \\\\\n",
    "       &= F(n)[F(n+1)+F(n+1)-F(n)] \\\\\n",
    "       &= F(n)[2*F(n+1)-F(n)]\n",
    "\\end{aligned}$"
   ]
  },
  {
   "attachments": {},
   "cell_type": "markdown",
   "metadata": {},
   "source": [
    "Golang 實現\n",
    "\n",
    "```go\n",
    "func fib(n int) int {\n",
    "\tif n == 0 {\n",
    "\t\treturn 0\n",
    "\t}\n",
    "\n",
    "\tfn := 1 //F(n)\n",
    "\tfn1 := 1 //F(n+1)\n",
    "\tf2n := 1 //F(2n)\n",
    "\tf2n1 := 0 //F(2n+1)\n",
    "\ti := 1\n",
    "\n",
    "\tfor i < n {\n",
    "\t\tif (i << 1) <= n {\n",
    "\t\t\tf2n1 = fn1*fn1 + fn*fn\n",
    "\t\t\tf2n = fn * (2*fn1 - fn)\n",
    "\t\t\tfn = f2n\n",
    "\t\t\tfn1 = f2n1\n",
    "\t\t\ti = i << 1\n",
    "\t\t} else {\n",
    "\t\t\tfn = f2n\n",
    "\t\t\tf2n = f2n1\n",
    "\t\t\tf2n1 = fn + f2n1 // F(2n) + F(2n+1)\n",
    "\t\t\ti++\n",
    "\t\t}\n",
    "\t}\n",
    "\treturn f2n\n",
    "}\n",
    "```"
   ]
  },
  {
   "cell_type": "markdown",
   "metadata": {},
   "source": []
  }
 ],
 "metadata": {
  "language_info": {
   "name": "python"
  },
  "orig_nbformat": 4
 },
 "nbformat": 4,
 "nbformat_minor": 2
}
